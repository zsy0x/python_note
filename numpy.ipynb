{
 "cells": [
  {
   "cell_type": "markdown",
   "metadata": {},
   "source": [
    "&emsp;&emsp;**Numpy包提供了一种特殊的数据类型：ndarray(n维数组），相比于列表，牺牲了数据的多样性，保证了数据处理的高效性。**"
   ]
  },
  {
   "cell_type": "markdown",
   "metadata": {},
   "source": [
    "# ndarray基础"
   ]
  },
  {
   "cell_type": "markdown",
   "metadata": {},
   "source": [
    "## ndarray的创建"
   ]
  },
  {
   "cell_type": "code",
   "execution_count": 1,
   "metadata": {
    "scrolled": false
   },
   "outputs": [
    {
     "name": "stdout",
     "output_type": "stream",
     "text": [
      "array函数创建一维数数组： [1 2 3 4]\n",
      "array函数创建二维数数组： [[1 2]\n",
      " [3 4]]\n",
      "arange函数创建一维数组为(不包含最后一个元素)： [0.  0.1 0.2 0.3 0.4 0.5 0.6 0.7 0.8 0.9]\n",
      "linspace函数创建一维数组为(包含最后一个元素)： [0.         0.11111111 0.22222222 0.33333333 0.44444444 0.55555556\n",
      " 0.66666667 0.77777778 0.88888889 1.        ]\n",
      "logspace函数创建一维数组为(包含最后一个元素)： [ 1.          1.29154967  1.66810054  2.15443469  2.7825594   3.59381366\n",
      "  4.64158883  5.9948425   7.74263683 10.        ]\n",
      "函数zeros创建一维数组为： [0. 0. 0.]\n",
      "函数zeros创建二维数组为： [[0.]\n",
      " [0.]\n",
      " [0.]]\n",
      "函数ones创建一维数组为： [1. 1. 1.]\n",
      "函数ones创建二维数组为： [[1.]\n",
      " [1.]\n",
      " [1.]]\n",
      "函数eye创建二维数组为： [[1. 0. 0.]\n",
      " [0. 1. 0.]\n",
      " [0. 0. 1.]]\n",
      "函数diag创建二维数组为： [[1 0 0 0]\n",
      " [0 2 0 0]\n",
      " [0 0 3 0]\n",
      " [0 0 0 4]]\n",
      "函数rand创建一维数组为： [0.21585443 0.07300501 0.46164605]\n",
      "函数rand创建二维数组为： [[0.04111301 0.94628334 0.425518  ]\n",
      " [0.85134503 0.63067189 0.75850889]\n",
      " [0.46061295 0.11453132 0.1602913 ]]\n",
      "函数randn创建一维数组为： [-0.92280792 -0.42703368  0.59820494]\n",
      "函数randn创建二维数组为： [[-0.4743035  -0.31790886 -0.40095283]\n",
      " [ 0.85213401 -0.1066063   0.52622263]\n",
      " [ 1.16484889 -0.76163529 -0.20795729]]\n"
     ]
    }
   ],
   "source": [
    "import numpy as np\n",
    "print('array函数创建一维数数组：', np.array([1, 2, 3, 4]))\n",
    "print('array函数创建二维数数组：', np.array([[1, 2], [3, 4]]))\n",
    "\n",
    "print('arange函数创建一维数组为(不包含最后一个元素)：', np.arange(0, 1, 0.1))\n",
    "\n",
    "print('linspace函数创建一维数组为(包含最后一个元素)：', np.linspace(0, 1, 10))\n",
    "\n",
    "print('logspace函数创建一维数组为(包含最后一个元素)：', np.logspace(0, 1, 10))\n",
    "\n",
    "print('函数zeros创建一维数组为：', np.zeros(3))\n",
    "print('函数zeros创建二维数组为：', np.zeros((3, 1)))\n",
    "\n",
    "print('函数ones创建一维数组为：', np.ones(3))\n",
    "print('函数ones创建二维数组为：', np.ones((3, 1)))\n",
    "\n",
    "print('函数eye创建二维数组为：', np.eye(3))\n",
    "\n",
    "print('函数diag创建二维数组为：', np.diag([1, 2, 3, 4]))\n",
    "\n",
    "print('函数rand创建一维数组为：', np.random.rand(3))\n",
    "print('函数rand创建二维数组为：', np.random.rand(3, 3))\n",
    "\n",
    "print('函数randn创建一维数组为：', np.random.randn(3))\n",
    "print('函数randn创建二维数组为：', np.random.randn(3, 3))"
   ]
  },
  {
   "cell_type": "markdown",
   "metadata": {},
   "source": [
    "## ndarray的属性"
   ]
  },
  {
   "cell_type": "code",
   "execution_count": 2,
   "metadata": {},
   "outputs": [
    {
     "name": "stdout",
     "output_type": "stream",
     "text": [
      "尺寸，维数，元素个数，元素类型, 转置： (2, 2) 2 4 int32 [[1 3]\n",
      " [2 4]]\n"
     ]
    }
   ],
   "source": [
    "x = np.array([[1, 2], [3, 4]])\n",
    "print('尺寸，维数，元素个数，元素类型, 转置：', x.shape, x.ndim, x.size, x.dtype, x.T)"
   ]
  },
  {
   "cell_type": "markdown",
   "metadata": {},
   "source": [
    "## ndarray的方法"
   ]
  },
  {
   "cell_type": "code",
   "execution_count": 3,
   "metadata": {},
   "outputs": [
    {
     "name": "stdout",
     "output_type": "stream",
     "text": [
      "强制转换数组x类型为str [['1' '2']\n",
      " ['3' '4']]\n"
     ]
    }
   ],
   "source": [
    "x = np.array([[1, 2], [3, 4]])\n",
    "print('强制转换数组x类型为str', x.astype('str'))"
   ]
  },
  {
   "cell_type": "markdown",
   "metadata": {},
   "source": [
    "## ndarray的运算"
   ]
  },
  {
   "cell_type": "markdown",
   "metadata": {},
   "source": [
    "### 索引切片"
   ]
  },
  {
   "cell_type": "code",
   "execution_count": 4,
   "metadata": {},
   "outputs": [
    {
     "name": "stdout",
     "output_type": "stream",
     "text": [
      "二维数组的索引 1\n",
      "二维数组的冒号表达式切片 [1 2]\n",
      "二维数组的列表切片 [1 2]\n",
      "二维数组的逻辑型切片 [1 2]\n"
     ]
    }
   ],
   "source": [
    "x = np.array([[1, 2], [3, 4]])\n",
    "print('二维数组的索引', x[0][0])\n",
    "print('二维数组的冒号表达式切片', x[0, :])\n",
    "print('二维数组的列表切片', x[0, [0, 1]])\n",
    "print('二维数组的逻辑型切片', x[0, [True, True]])"
   ]
  },
  {
   "cell_type": "markdown",
   "metadata": {},
   "source": [
    "### 算术运算"
   ]
  },
  {
   "cell_type": "code",
   "execution_count": 5,
   "metadata": {},
   "outputs": [
    {
     "name": "stdout",
     "output_type": "stream",
     "text": [
      "尺寸一致时数组x与y的加减乘除取余乘幂整除运算\n",
      "[[ 6  8]\n",
      " [10 12]] [[-4 -4]\n",
      " [-4 -4]] [[ 5 12]\n",
      " [21 32]] [[0.2        0.33333333]\n",
      " [0.42857143 0.5       ]] [[1 2]\n",
      " [3 4]] [[    1    64]\n",
      " [ 2187 65536]] [[0 0]\n",
      " [0 0]]\n",
      "尺寸不一致时数组x与y的加减乘除取余乘幂整除运算，广播机制\n",
      "[[ 6  8]\n",
      " [ 8 10]] [[-4 -4]\n",
      " [-2 -2]] [[ 5 12]\n",
      " [15 24]] [[0.2        0.33333333]\n",
      " [0.6        0.66666667]] [[1 2]\n",
      " [3 4]] [[   1   64]\n",
      " [ 243 4096]] [[0 0]\n",
      " [0 0]]\n"
     ]
    }
   ],
   "source": [
    "x = np.array([[1, 2], [3, 4]])\n",
    "y = np.array([[5, 6], [7, 8]])\n",
    "print('尺寸一致时数组x与y的加减乘除取余乘幂整除运算')\n",
    "print(x+y,x-y,x*y,x/y,x%y,x**y,x//y)\n",
    "print('尺寸不一致时数组x与y的加减乘除取余乘幂整除运算，广播机制')\n",
    "z = np.array([5, 6])\n",
    "print(x+z,x-z,x*z,x/z,x%z,x**z,x//z)"
   ]
  },
  {
   "cell_type": "markdown",
   "metadata": {},
   "source": [
    "### 关系运算"
   ]
  },
  {
   "cell_type": "code",
   "execution_count": 6,
   "metadata": {},
   "outputs": [],
   "source": [
    "x = np.array([[1, 2], [3, 4]])\n",
    "y = np.array([[5, 6], [7, 8]])\n",
    "# > >= < <= == !="
   ]
  },
  {
   "cell_type": "markdown",
   "metadata": {},
   "source": [
    "### 逻辑运算"
   ]
  },
  {
   "cell_type": "code",
   "execution_count": 7,
   "metadata": {},
   "outputs": [],
   "source": [
    "x = np.array([[1, 2], [3, 4]])\n",
    "y = np.array([[5, 6], [7, 8]])\n",
    "# and or not"
   ]
  },
  {
   "cell_type": "markdown",
   "metadata": {},
   "source": [
    "## ndarray的函数"
   ]
  },
  {
   "cell_type": "markdown",
   "metadata": {},
   "source": [
    "### 统计函数"
   ]
  },
  {
   "cell_type": "code",
   "execution_count": 8,
   "metadata": {},
   "outputs": [
    {
     "name": "stdout",
     "output_type": "stream",
     "text": [
      "默认求最大值, 轴为0对列求最大值，轴为1对行求最大值 4 [3 4] [2 4]\n",
      "默认求最小值, 轴为0对列求最小值，轴为1对行求最小值 1 [1 2] [1 3]\n",
      "默认求最大值索引, 轴为0对列求最大值索引，轴为1对行求最大值索引 3 [1 1] [1 1]\n",
      "默认求最小值索引, 轴为0对列求最小值索引，轴为1对行求最小值索引 0 [0 0] [0 0]\n",
      "默认求和, 轴为0对列求和，轴为1对行求和 10 [4 6] [3 7]\n",
      "默认求积, 轴为0对列求积，轴为1对行求积 24 [3 8] [ 2 12]\n",
      "默认求累加和, 轴为0对列求累加和，轴为1对行求累加和 [ 1  3  6 10] [[1 2]\n",
      " [4 6]] [[1 3]\n",
      " [3 7]]\n",
      "默认求累加积, 轴为0对列求累加积，轴为1对行求累加积 [ 1  2  6 24] [[1 2]\n",
      " [3 8]] [[ 1  2]\n",
      " [ 3 12]]\n",
      "默认求均值, 轴为0对列求均值，轴为1对行求均值 2.5 [2. 3.] [1.5 3.5]\n",
      "默认求中位数, 轴为0对列求中位数，轴为1对行求中位数 2.5 [2. 3.] [1.5 3.5]\n",
      "默认求分位数, 轴为0对列求分位数，轴为1对行求分位数 1.75 [1.5 2.5] [1.25 3.25]\n",
      "默认求方差, 轴为0对列求方差，轴为1对行求方差 1.25 [1. 1.] [0.25 0.25]\n",
      "默认求标准差, 轴为0对列求标准差，轴为1对行求标准差 1.118033988749895 [1. 1.] [0.5 0.5]\n",
      "默认rowvar为True对行求协方差： [[0.5 0.5]\n",
      " [0.5 0.5]]\n",
      "默认rowvar为True对行求相关系数： [[1. 1.]\n",
      " [1. 1.]]\n"
     ]
    }
   ],
   "source": [
    "x = np.array([[1, 2], [3, 4]])\n",
    "print('默认求最大值, 轴为0对列求最大值，轴为1对行求最大值', np.max(x), np.max(x, axis=0), np.max(x, axis=1))\n",
    "\n",
    "print('默认求最小值, 轴为0对列求最小值，轴为1对行求最小值', np.min(x), np.min(x, axis=0), np.min(x, axis=1))\n",
    "\n",
    "print('默认求最大值索引, 轴为0对列求最大值索引，轴为1对行求最大值索引', np.argmax(x), np.argmax(x, axis=0), np.argmax(x, axis=1))\n",
    "\n",
    "print('默认求最小值索引, 轴为0对列求最小值索引，轴为1对行求最小值索引', np.argmin(x), np.argmin(x, axis=0), np.argmin(x, axis=1))\n",
    "\n",
    "print('默认求和, 轴为0对列求和，轴为1对行求和', np.sum(x), np.sum(x, axis=0), np.sum(x, axis=1))\n",
    "\n",
    "print('默认求积, 轴为0对列求积，轴为1对行求积', np.prod(x), np.prod(x, axis=0), np.prod(x, axis=1))\n",
    "\n",
    "print('默认求累加和, 轴为0对列求累加和，轴为1对行求累加和', np.cumsum(x), np.cumsum(x, axis=0), np.cumsum(x, axis=1))\n",
    "\n",
    "print('默认求累加积, 轴为0对列求累加积，轴为1对行求累加积', np.cumprod(x), np.cumprod(x, axis=0), np.cumprod(x, axis=1))\n",
    "\n",
    "print('默认求均值, 轴为0对列求均值，轴为1对行求均值', np.mean(x), np.mean(x, axis=0), np.mean(x, axis=1))\n",
    "\n",
    "print('默认求中位数, 轴为0对列求中位数，轴为1对行求中位数', np.median(x), np.median(x, axis=0), np.median(x, axis=1))\n",
    "\n",
    "print('默认求分位数, 轴为0对列求分位数，轴为1对行求分位数', np.quantile(x, 0.25), np.quantile(x, 0.25, axis=0), np.quantile(x, 0.25, axis=1))\n",
    "\n",
    "print('默认求方差, 轴为0对列求方差，轴为1对行求方差', np.var(x), np.var(x, axis=0), np.var(x, axis=1))\n",
    "\n",
    "print('默认求标准差, 轴为0对列求标准差，轴为1对行求标准差', np.std(x), np.std(x, axis=0), np.std(x, axis=1))\n",
    "\n",
    "print('默认rowvar为True对行求协方差：', np.cov(x))\n",
    "\n",
    "print('默认rowvar为True对行求相关系数：', np.corrcoef(x))"
   ]
  },
  {
   "cell_type": "markdown",
   "metadata": {},
   "source": [
    "### 其他函数"
   ]
  },
  {
   "cell_type": "code",
   "execution_count": 9,
   "metadata": {},
   "outputs": [
    {
     "name": "stdout",
     "output_type": "stream",
     "text": [
      "数组x计算结果是否为True，轴为0对列结果是否为True，轴为1对行结果是否为True True [ True  True] [ True  True]\n",
      "数组x计算结果是否存在True，轴为0对列结果是否存在True，轴为1对行结果是否存在True True [ True  True] [ True  True]\n",
      "数组x排序，轴为None展开排序，轴为0对列排序 [[1 5]\n",
      " [3 4]] [1 3 4 5] [[1 4]\n",
      " [3 5]]\n",
      "数组x排序索引，轴为None展开排序索引，轴为0对列排序索引 [[0 1]\n",
      " [0 1]] [0 2 3 1] [[0 1]\n",
      " [1 0]]\n",
      "复制数组x [[1 5]\n",
      " [3 4]]\n",
      "按行展开数据x，按列展开数组x [1 5 3 4] [1 3 5 4]\n",
      "按行重塑数组x的尺寸，按列重塑数组x的尺寸 [[1]\n",
      " [5]\n",
      " [3]\n",
      " [4]] [[1]\n",
      " [3]\n",
      " [5]\n",
      " [4]]\n",
      "对数组y保留decimals [[1.2346 5.    ]\n",
      " [3.     4.    ]]\n"
     ]
    }
   ],
   "source": [
    "x = np.array([[1, 5], [3, 4]])\n",
    "print('数组x计算结果是否为True，轴为0对列结果是否为True，轴为1对行结果是否为True', np.all(x), np.all(x, axis=0), np.all(x, axis=1))\n",
    "\n",
    "print('数组x计算结果是否存在True，轴为0对列结果是否存在True，轴为1对行结果是否存在True', np.any(x), np.any(x, axis=0), np.any(x, axis=1))\n",
    "\n",
    "print('数组x排序，轴为None展开排序，轴为0对列排序', np.sort(x), np.sort(x, axis=None), np.sort(x, axis=0))\n",
    "\n",
    "print('数组x排序索引，轴为None展开排序索引，轴为0对列排序索引', np.argsort(x), np.argsort(x, axis=None), np.argsort(x, axis=0))\n",
    "\n",
    "print('复制数组x', np.copy(x))\n",
    "\n",
    "print('按行展开数据x，按列展开数组x', np.ravel(x), np.ravel(x, order='F'))\n",
    "\n",
    "print('按行重塑数组x的尺寸，按列重塑数组x的尺寸', np.reshape(x, (4, 1)), np.reshape(x, (4,1), order='F'))\n",
    "\n",
    "y = np.array([[1.23456, 5], [3, 4]])\n",
    "print('对数组y保留decimals', np.round(y, 4))"
   ]
  },
  {
   "cell_type": "markdown",
   "metadata": {},
   "source": [
    "# ndarray进阶"
   ]
  },
  {
   "cell_type": "markdown",
   "metadata": {},
   "source": [
    "## 时间处理"
   ]
  },
  {
   "cell_type": "code",
   "execution_count": 10,
   "metadata": {},
   "outputs": [
    {
     "name": "stdout",
     "output_type": "stream",
     "text": [
      "创建一系列时刻为 ['2023-02-01' '2023-02-02' '2023-02-03' '2023-02-04' '2023-02-05'\n",
      " '2023-02-06' '2023-02-07' '2023-02-08' '2023-02-09' '2023-02-10'\n",
      " '2023-02-11' '2023-02-12' '2023-02-13' '2023-02-14' '2023-02-15'\n",
      " '2023-02-16' '2023-02-17' '2023-02-18' '2023-02-19' '2023-02-20'\n",
      " '2023-02-21' '2023-02-22' '2023-02-23' '2023-02-24' '2023-02-25'\n",
      " '2023-02-26' '2023-02-27' '2023-02-28']\n",
      "时刻相减为间隔值 366 days\n",
      "时刻加间隔值 2009-01-21\n",
      "时刻加间隔值 2009-01-01T20\n",
      "时刻加间隔值 2009-01-01T00:20\n",
      "时刻加间隔值 2009-01-01T00:00:20\n"
     ]
    }
   ],
   "source": [
    "# datetime64是时刻，时刻相减是timedelta64\n",
    "print('创建一系列时刻为', np.arange('2023-02-01', '2023-03-01', dtype='datetime64[D]'))\n",
    "print('时刻相减为间隔值', np.datetime64('2009-01-01') - np.datetime64('2008-01-01'))\n",
    "print('时刻加间隔值', np.datetime64('2009-01-01') + np.timedelta64(20, 'D'))\n",
    "print('时刻加间隔值', np.datetime64('2009-01-01') + np.timedelta64(20, 'h'))\n",
    "print('时刻加间隔值', np.datetime64('2009-01-01') + np.timedelta64(20, 'm'))\n",
    "print('时刻加间隔值', np.datetime64('2009-01-01') + np.timedelta64(20, 's'))"
   ]
  },
  {
   "cell_type": "markdown",
   "metadata": {},
   "source": [
    "## 读写二进制文件"
   ]
  },
  {
   "cell_type": "code",
   "execution_count": 11,
   "metadata": {},
   "outputs": [
    {
     "name": "stdout",
     "output_type": "stream",
     "text": [
      "将一个数组写入二进制文件 None\n",
      "将多个数组写入二进制文件 None\n",
      "文件中数组名为 ['arr_0', 'arr_1']\n",
      "文件中第一个数组为 [[1 2]\n",
      " [3 4]]\n",
      "文件中第二个数组为 [[5 6]\n",
      " [7 8]]\n"
     ]
    }
   ],
   "source": [
    "x = np.array([[1, 2], [3, 4]])\n",
    "y = np.array([[5, 6], [7, 8]])\n",
    "print('将一个数组写入二进制文件', np.save(r'./datas/Numpy/x.npy', x))\n",
    "print('将多个数组写入二进制文件', np.savez(r'./datas/Numpy/xy.npz', x, y))\n",
    "\n",
    "print('文件中数组名为', np.load('./datas/Numpy/xy.npz').files)\n",
    "print('文件中第一个数组为', np.load('./datas/Numpy/xy.npz')['arr_0'])\n",
    "print('文件中第二个数组为', np.load('./datas/Numpy/xy.npz')['arr_1'])"
   ]
  },
  {
   "cell_type": "markdown",
   "metadata": {},
   "source": [
    "## 自定义数据类型"
   ]
  },
  {
   "cell_type": "code",
   "execution_count": 12,
   "metadata": {},
   "outputs": [
    {
     "name": "stdout",
     "output_type": "stream",
     "text": [
      "自定义数据类型的数组(结构体)为 [('小明', 18, 100. ) ('小红', 19,  98.2) ('小兰', 17,  97.8)]\n"
     ]
    }
   ],
   "source": [
    "dt = np.dtype([('name', str, 40), ('age', int), ('grade', float)])\n",
    "print('自定义数据类型的数组(结构体)为', np.array([('小明', 18, 100.0), ('小红', 19, 98.2), ('小兰', 17, 97.8)], dtype=dt))"
   ]
  },
  {
   "cell_type": "markdown",
   "metadata": {},
   "source": [
    "# ndarray补充"
   ]
  },
  {
   "cell_type": "markdown",
   "metadata": {},
   "source": [
    "## 常量"
   ]
  },
  {
   "cell_type": "code",
   "execution_count": 13,
   "metadata": {},
   "outputs": [
    {
     "name": "stdout",
     "output_type": "stream",
     "text": [
      "正无穷 inf\n",
      "负无穷 -inf\n",
      "非数 nan\n",
      "自然对数的底 2.718281828459045\n",
      "圆周率 3.141592653589793\n"
     ]
    }
   ],
   "source": [
    "print('正无穷', np.inf)\n",
    "print('负无穷', np.NINF)\n",
    "print('非数', np.NAN)\n",
    "print('自然对数的底', np.e)\n",
    "print('圆周率', np.pi)"
   ]
  }
 ],
 "metadata": {
  "kernelspec": {
   "display_name": "Python 3 (ipykernel)",
   "language": "python",
   "name": "python3"
  },
  "language_info": {
   "codemirror_mode": {
    "name": "ipython",
    "version": 3
   },
   "file_extension": ".py",
   "mimetype": "text/x-python",
   "name": "python",
   "nbconvert_exporter": "python",
   "pygments_lexer": "ipython3",
   "version": "3.9.7"
  },
  "toc": {
   "base_numbering": 1,
   "nav_menu": {},
   "number_sections": true,
   "sideBar": true,
   "skip_h1_title": false,
   "title_cell": "Table of Contents",
   "title_sidebar": "Contents",
   "toc_cell": false,
   "toc_position": {
    "height": "calc(100% - 180px)",
    "left": "10px",
    "top": "150px",
    "width": "256px"
   },
   "toc_section_display": true,
   "toc_window_display": true
  },
  "varInspector": {
   "cols": {
    "lenName": 16,
    "lenType": 16,
    "lenVar": 40
   },
   "kernels_config": {
    "python": {
     "delete_cmd_postfix": "",
     "delete_cmd_prefix": "del ",
     "library": "var_list.py",
     "varRefreshCmd": "print(var_dic_list())"
    },
    "r": {
     "delete_cmd_postfix": ") ",
     "delete_cmd_prefix": "rm(",
     "library": "var_list.r",
     "varRefreshCmd": "cat(var_dic_list()) "
    }
   },
   "types_to_exclude": [
    "module",
    "function",
    "builtin_function_or_method",
    "instance",
    "_Feature"
   ],
   "window_display": false
  }
 },
 "nbformat": 4,
 "nbformat_minor": 4
}

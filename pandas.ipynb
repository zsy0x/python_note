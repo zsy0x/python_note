{
 "cells": [
  {
   "cell_type": "markdown",
   "metadata": {},
   "source": [
    "&emsp;&emsp;**Pandas提供了一种特殊的数据类型，一维Series，二维DataFrame。**"
   ]
  },
  {
   "cell_type": "markdown",
   "metadata": {},
   "source": [
    "# DataFrame基础"
   ]
  },
  {
   "cell_type": "markdown",
   "metadata": {},
   "source": [
    "## DataFrame的创建"
   ]
  },
  {
   "cell_type": "code",
   "execution_count": 1,
   "metadata": {},
   "outputs": [
    {
     "name": "stdout",
     "output_type": "stream",
     "text": [
      "类Series实例化Series对象 aa    a\n",
      "bb    b\n",
      "12    c\n",
      "34    d\n",
      "dtype: object\n",
      "类DataFrame实例化DataFrame对象   one two three four\n",
      "1   a   b     c    d\n",
      "2   e   f     g    h\n",
      "3   i   g     k    l\n",
      "4   m   n     o    p\n"
     ]
    }
   ],
   "source": [
    "import numpy as np\n",
    "import pandas as pd\n",
    "print('类Series实例化Series对象', pd.Series(\n",
    "    data=['a', 'b', 'c', 'd'],\n",
    "    index=['aa', 'bb', '12', '34']\n",
    "))\n",
    "print('类DataFrame实例化DataFrame对象', pd.DataFrame(\n",
    "    data=[['a', 'b', 'c', 'd'], ['e', 'f', 'g', 'h'],\n",
    "          ['i', 'g', 'k', 'l'], ['m', 'n', 'o', 'p']],\n",
    "    index=['1', '2', '3', '4'],\n",
    "    columns=['one', 'two', 'three', 'four']\n",
    "))"
   ]
  },
  {
   "cell_type": "markdown",
   "metadata": {},
   "source": [
    "## DataFrame的属性"
   ]
  },
  {
   "cell_type": "code",
   "execution_count": 2,
   "metadata": {},
   "outputs": [
    {
     "name": "stdout",
     "output_type": "stream",
     "text": [
      "尺寸，维数，元素个数，元素类型, 转置，元素，行索引，列索引 (4, 4) 2 16 one      object\n",
      "two      object\n",
      "three    object\n",
      "four     object\n",
      "dtype: object        1  2  3  4\n",
      "one    a  e  i  m\n",
      "two    b  f  g  n\n",
      "three  c  g  k  o\n",
      "four   d  h  l  p [['a' 'b' 'c' 'd']\n",
      " ['e' 'f' 'g' 'h']\n",
      " ['i' 'g' 'k' 'l']\n",
      " ['m' 'n' 'o' 'p']] Index(['1', '2', '3', '4'], dtype='object') Index(['one', 'two', 'three', 'four'], dtype='object')\n"
     ]
    }
   ],
   "source": [
    "df = pd.DataFrame(\n",
    "    data=[['a', 'b', 'c', 'd'], ['e', 'f', 'g', 'h'],\n",
    "          ['i', 'g', 'k', 'l'], ['m', 'n', 'o', 'p']],\n",
    "    index=['1', '2', '3', '4'],\n",
    "    columns=['one', 'two', 'three', 'four']\n",
    ")\n",
    "print('尺寸，维数，元素个数，元素类型, 转置，元素，行索引，列索引', df.shape, df.ndim, df.size, df.dtypes, df.T, df.values, df.index, df.columns)"
   ]
  },
  {
   "cell_type": "markdown",
   "metadata": {},
   "source": [
    "## DataFrame的方法"
   ]
  },
  {
   "cell_type": "code",
   "execution_count": 3,
   "metadata": {
    "scrolled": false
   },
   "outputs": [
    {
     "name": "stdout",
     "output_type": "stream",
     "text": [
      "默认查看数据前五行     a   b   c   d\n",
      "1   1   2   3   4\n",
      "2   5   6   7   8\n",
      "3   9  10  11  12\n",
      "4  13  14  15  16\n",
      "默认查看数据后五行     a   b   c   d\n",
      "1   1   2   3   4\n",
      "2   5   6   7   8\n",
      "3   9  10  11  12\n",
      "4  13  14  15  16\n",
      "每列非空数值的数目 a    4\n",
      "b    4\n",
      "c    4\n",
      "d    4\n",
      "dtype: int64\n",
      "每列空值的数目 a    0\n",
      "b    0\n",
      "c    0\n",
      "d    0\n",
      "dtype: int64\n",
      "查看数值型数据的统计摘要(数量，均值，标准差，最小值，下四分位数，中位数，上四分位数，最大值                a          b          c          d\n",
      "count   4.000000   4.000000   4.000000   4.000000\n",
      "mean    7.000000   8.000000   9.000000  10.000000\n",
      "std     5.163978   5.163978   5.163978   5.163978\n",
      "min     1.000000   2.000000   3.000000   4.000000\n",
      "25%     4.000000   5.000000   6.000000   7.000000\n",
      "50%     7.000000   8.000000   9.000000  10.000000\n",
      "75%    10.000000  11.000000  12.000000  13.000000\n",
      "max    13.000000  14.000000  15.000000  16.000000\n",
      "返回列最大值 a    13\n",
      "b    14\n",
      "c    15\n",
      "d    16\n",
      "dtype: int32\n",
      "返回行最大值 1     4\n",
      "2     8\n",
      "3    12\n",
      "4    16\n",
      "dtype: int32\n",
      "计算列的成对协方差            a          b          c          d\n",
      "a  26.666667  26.666667  26.666667  26.666667\n",
      "b  26.666667  26.666667  26.666667  26.666667\n",
      "c  26.666667  26.666667  26.666667  26.666667\n",
      "d  26.666667  26.666667  26.666667  26.666667\n",
      "计算列的成对相关系数      a    b    c    d\n",
      "a  1.0  1.0  1.0  1.0\n",
      "b  1.0  1.0  1.0  1.0\n",
      "c  1.0  1.0  1.0  1.0\n",
      "d  1.0  1.0  1.0  1.0\n",
      "轴为0按纵轴排升序     a   b   c   d\n",
      "1   1   2   3   4\n",
      "2   5   6   7   8\n",
      "3   9  10  11  12\n",
      "4  13  14  15  16\n",
      "轴为0按纵轴排降序     a   b   c   d\n",
      "4  13  14  15  16\n",
      "3   9  10  11  12\n",
      "2   5   6   7   8\n",
      "1   1   2   3   4\n",
      "轴为1按横轴排升序     a   b   c   d\n",
      "1   1   2   3   4\n",
      "2   5   6   7   8\n",
      "3   9  10  11  12\n",
      "4  13  14  15  16\n",
      "轴为1按横轴排降序     d   c   b   a\n",
      "1   4   3   2   1\n",
      "2   8   7   6   5\n",
      "3  12  11  10   9\n",
      "4  16  15  14  13\n",
      "按值排升序     a   b   c   d\n",
      "1   1   2   3   4\n",
      "2   5   6   7   8\n",
      "3   9  10  11  12\n",
      "4  13  14  15  16\n",
      "按值排降序     a   b   c   d\n",
      "4  13  14  15  16\n",
      "3   9  10  11  12\n",
      "2   5   6   7   8\n",
      "1   1   2   3   4\n",
      "重建索引可以调整行和列的顺序     a   b   d   c\n",
      "4  13  14  16  15\n",
      "3   9  10  12  11\n",
      "1   1   2   4   3\n",
      "2   5   6   8   7\n",
      "对数据沿纵轴向下移动2次，缺失值用0填充    a  b  c  d\n",
      "1  0  0  0  0\n",
      "2  0  0  0  0\n",
      "3  1  2  3  4\n",
      "4  5  6  7  8\n",
      "对数据沿横轴向左移动2次，缺失值用0填充     a   b  c  d\n",
      "1   3   4  0  0\n",
      "2   7   8  0  0\n",
      "3  11  12  0  0\n",
      "4  15  16  0  0\n",
      "遍历DataFrame的一列元素 a    13\n",
      "b    14\n",
      "c    15\n",
      "d    16\n",
      "dtype: int64\n",
      "遍历DataFrame的一行元素 1    3\n",
      "2    3\n",
      "3    3\n",
      "4    3\n",
      "dtype: int64\n",
      "强制转换a数据类型为float 1     1.0\n",
      "2     5.0\n",
      "3     9.0\n",
      "4    13.0\n",
      "Name: a, dtype: float64\n"
     ]
    }
   ],
   "source": [
    "df = pd.DataFrame(\n",
    "    data=np.reshape(range(1, 17), (4, 4)),\n",
    "    index=['1', '2', '3', '4'],\n",
    "    columns=['a', 'b', 'c', 'd']\n",
    ")\n",
    "\n",
    "print('默认查看数据前五行', df.head())\n",
    "\n",
    "print('默认查看数据后五行', df.tail())\n",
    "\n",
    "print('每列非空数值的数目', df.count())\n",
    "print('每列空值的数目', df.isnull().sum())\n",
    "\n",
    "print('查看数值型数据的统计摘要(数量，均值，标准差，最小值，下四分位数，中位数，上四分位数，最大值', df.describe())\n",
    "\n",
    "print('返回列最大值', df.max())\n",
    "print('返回行最大值', df.max(axis=1))\n",
    "# min,argmax,argmin,sum,prod,cumsum,cumprod,mean,median,quantile,var,std,cov,corr\n",
    "print('计算列的成对协方差', df.cov())\n",
    "print('计算列的成对相关系数', df.corr())\n",
    "\n",
    "print('轴为0按纵轴排升序', df.sort_index())\n",
    "print('轴为0按纵轴排降序', df.sort_index(ascending=False))\n",
    "print('轴为1按横轴排升序', df.sort_index(axis=1))\n",
    "print('轴为1按横轴排降序', df.sort_index(axis=1, ascending=False))\n",
    "\n",
    "print('按值排升序', df.sort_values(by='a'))\n",
    "print('按值排降序', df.sort_values(by='a', ascending=False))\n",
    "\n",
    "print('重建索引可以调整行和列的顺序', df.reindex(index=['4', '3', '1', '2'], columns=['a', 'b', 'd', 'c']))\n",
    "\n",
    "print('对数据沿纵轴向下移动2次，缺失值用0填充', df.shift(periods=2, fill_value=0))\n",
    "print('对数据沿横轴向左移动2次，缺失值用0填充', df.shift(axis=1, periods=-2, fill_value=0))\n",
    "\n",
    "print('遍历DataFrame的一列元素', df.apply(np.max))\n",
    "print('遍历DataFrame的一行元素', df.apply(func=lambda x: x.max() - x.min(), axis=1))\n",
    "\n",
    "print('强制转换a数据类型为float', df['a'].astype('float'))"
   ]
  },
  {
   "cell_type": "markdown",
   "metadata": {},
   "source": [
    "## DataFrame的运算"
   ]
  },
  {
   "cell_type": "markdown",
   "metadata": {},
   "source": [
    "### 增删改查"
   ]
  },
  {
   "cell_type": "code",
   "execution_count": 4,
   "metadata": {},
   "outputs": [
    {
     "name": "stdout",
     "output_type": "stream",
     "text": [
      "一般都是增加一列   one two three four  five\n",
      "1   a   b     c    d  zhou\n",
      "2   e   f     g    h  zhou\n",
      "3   i   g     k    l  zhou\n",
      "4   m   n     o    p  zhou\n",
      "一般都是增加一列   one two three four five\n",
      "1   a   b     c    d   ab\n",
      "2   e   f     g    h   ef\n",
      "3   i   g     k    l   ig\n",
      "4   m   n     o    p   mn\n",
      "删除一列   one two three four\n",
      "1   a   b     c    d\n",
      "2   e   f     g    h\n",
      "3   i   g     k    l\n",
      "4   m   n     o    p\n",
      "删除一行   one two three four\n",
      "2   e   f     g    h\n",
      "3   i   g     k    l\n",
      "4   m   n     o    p\n",
      "修改一列     one two three four\n",
      "2  zhou   f     g    h\n",
      "3  zhou   g     k    l\n",
      "4  zhou   n     o    p\n",
      "索引时DataFrame先写列索引，再写行索引 zhou\n",
      "两个中括号切片     one two\n",
      "2  zhou   f\n",
      "3  zhou   g\n",
      "loc传入索引名称切片     one two\n",
      "2  zhou   f\n",
      "3  zhou   g\n",
      "iloc传入索引序号切片(和数组一样)     one two\n",
      "2  zhou   f\n",
      "3  zhou   g\n",
      "iloc传入索引序号切片(和数组一样)     one two\n",
      "2  zhou   f\n",
      "3  zhou   g\n",
      "loc条件切片(等价于行索引是逻辑值)     one two three four\n",
      "2  zhou   f     g    h\n",
      "3  zhou   g     k    l\n",
      "4  zhou   n     o    p\n"
     ]
    }
   ],
   "source": [
    "df = pd.DataFrame(\n",
    "    data=[['a', 'b', 'c', 'd'], ['e', 'f', 'g', 'h'],\n",
    "          ['i', 'g', 'k', 'l'], ['m', 'n', 'o', 'p']],\n",
    "    index=['1', '2', '3', '4'],\n",
    "    columns=['one', 'two', 'three', 'four']\n",
    ")\n",
    "df['five'] = 'zhou'\n",
    "print('一般都是增加一列',df)\n",
    "df['five'] = df['one'] + df['two']\n",
    "print('一般都是增加一列',df)\n",
    "\n",
    "df.drop(columns=['five'], inplace=True)\n",
    "print('删除一列', df)\n",
    "df.drop(index=['1'], inplace=True)\n",
    "print('删除一行', df)\n",
    "\n",
    "df['one'] = 'zhou'\n",
    "print('修改一列', df)\n",
    "\n",
    "print('索引时DataFrame先写列索引，再写行索引', df['one']['2'])\n",
    "print('两个中括号切片', df[['one', 'two']][0:2])\n",
    "print('loc传入索引名称切片', df.loc[['2', '3'], ['one', 'two']])\n",
    "print('iloc传入索引序号切片(和数组一样)', df.iloc[[0, 1], [0, 1]])\n",
    "print('iloc传入索引序号切片(和数组一样)', df.iloc[0:2, 0:2])\n",
    "print('loc条件切片(等价于行索引是逻辑值)', df.loc[df['one'] == 'zhou', ['one', 'two', 'three', 'four']])"
   ]
  },
  {
   "cell_type": "markdown",
   "metadata": {},
   "source": [
    "## DataFrame的函数"
   ]
  },
  {
   "cell_type": "code",
   "execution_count": 5,
   "metadata": {},
   "outputs": [
    {
     "name": "stdout",
     "output_type": "stream",
     "text": [
      "透视表(仅指定行索引)        B  C  D  E\n",
      "A                \n",
      "one    6  6  6  6\n",
      "three  3  3  3  3\n",
      "two    3  3  3  3\n",
      "透视表 C             bar       foo\n",
      "A     B                    \n",
      "one   A  0.047272 -0.525177\n",
      "      B -0.471803  0.020852\n",
      "      C  0.214773 -0.539413\n",
      "three A  0.857089       NaN\n",
      "      B       NaN -1.169263\n",
      "      C  0.356688       NaN\n",
      "two   A       NaN -0.016813\n",
      "      B -0.446942       NaN\n",
      "      C       NaN -0.033798\n",
      "交叉表(values,index,columns取出的仅是一列) B             A         B         C\n",
      "A                                  \n",
      "one   -0.477905 -0.450951 -0.324640\n",
      "three  0.857089 -1.169263  0.356688\n",
      "two   -0.016813 -0.446942 -0.033798\n"
     ]
    }
   ],
   "source": [
    "df = pd.DataFrame({'A': ['one', 'one', 'two', 'three'] * 3,\n",
    "                   'B': ['A', 'B', 'C'] * 4,\n",
    "                   'C': ['foo', 'foo', 'foo', 'bar', 'bar', 'bar'] * 2,\n",
    "                   'D': np.random.randn(12),\n",
    "                   'E': np.random.randn(12)})\n",
    "print('透视表(仅指定行索引)', pd.pivot_table(df, index='A', aggfunc=len))\n",
    "print('透视表', pd.pivot_table(df, values='D', index=['A', 'B'], columns='C', aggfunc=np.sum))\n",
    "\n",
    "print('交叉表(values,index,columns取出的仅是一列)', pd.crosstab(values=df['D'], index=df['A'], columns=df['B'], aggfunc=np.sum))"
   ]
  },
  {
   "cell_type": "markdown",
   "metadata": {},
   "source": [
    "# DataFrame进阶"
   ]
  },
  {
   "cell_type": "markdown",
   "metadata": {},
   "source": [
    "## 读写不同的文件"
   ]
  },
  {
   "cell_type": "code",
   "execution_count": 6,
   "metadata": {},
   "outputs": [
    {
     "name": "stdout",
     "output_type": "stream",
     "text": [
      "写入csv时行索引不要被写入 None\n",
      "读取csv文件   one two three four\n",
      "0   a   b     c    d\n",
      "1   e   f     g    h\n",
      "2   i   g     k    l\n",
      "3   m   n     o    p\n"
     ]
    },
    {
     "name": "stderr",
     "output_type": "stream",
     "text": [
      "<ipython-input-6-e6a726ff6fd8>:10: UserWarning: Pandas requires version '1.4.3' or newer of 'xlsxwriter' (version '1.3.7' currently installed).\n",
      "  print('写入excel时行索引不要被写入', df.to_excel(r'./datas/Pandas/EXCEL.xlsx', index=False))\n"
     ]
    },
    {
     "name": "stdout",
     "output_type": "stream",
     "text": [
      "写入excel时行索引不要被写入 None\n",
      "读取excel文件   one two three four\n",
      "0   a   b     c    d\n",
      "1   e   f     g    h\n",
      "2   i   g     k    l\n",
      "3   m   n     o    p\n",
      "写入json时行索引需要被写入 None\n",
      "读取json文件行索引被读入   one two three four\n",
      "1   a   b     c    d\n",
      "2   e   f     g    h\n",
      "3   i   g     k    l\n",
      "4   m   n     o    p\n"
     ]
    }
   ],
   "source": [
    "df = pd.DataFrame(\n",
    "    data=[['a', 'b', 'c', 'd'], ['e', 'f', 'g', 'h'],\n",
    "          ['i', 'g', 'k', 'l'], ['m', 'n', 'o', 'p']],\n",
    "    index=['1', '2', '3', '4'],\n",
    "    columns=['one', 'two', 'three', 'four']\n",
    ")\n",
    "print('写入csv时行索引不要被写入', df.to_csv(r'./datas/Pandas/CSV.csv', index=False))\n",
    "print('读取csv文件', pd.read_csv(r'./datas/Pandas/CSV.csv'))\n",
    "\n",
    "print('写入excel时行索引不要被写入', df.to_excel(r'./datas/Pandas/EXCEL.xlsx', index=False))\n",
    "print('读取excel文件', pd.read_excel(r'./datas/Pandas/EXCEL.xlsx'))\n",
    "\n",
    "print('写入json时行索引需要被写入', df.to_json(r'./datas/Pandas/JSON.json'))\n",
    "print('读取json文件行索引被读入', pd.read_json(r'./datas/Pandas/JSON.json'))"
   ]
  },
  {
   "cell_type": "markdown",
   "metadata": {},
   "source": [
    "## 合并数据"
   ]
  },
  {
   "cell_type": "markdown",
   "metadata": {},
   "source": [
    "### 堆叠合并"
   ]
  },
  {
   "cell_type": "code",
   "execution_count": 7,
   "metadata": {},
   "outputs": [
    {
     "name": "stdout",
     "output_type": "stream",
     "text": [
      "纵向合并外连接      a   aa    b   bb    c   cc\n",
      "1    a    a  NaN  NaN  NaN  NaN\n",
      "2   aa   aa  NaN  NaN  NaN  NaN\n",
      "3  NaN  NaN    b    b  NaN  NaN\n",
      "4  NaN  NaN   bb   bb  NaN  NaN\n",
      "5  NaN  NaN  NaN  NaN    c    c\n",
      "6  NaN  NaN  NaN  NaN   cc   cc\n",
      "纵向合并内连接 Empty DataFrame\n",
      "Columns: []\n",
      "Index: [1, 2, 3, 4, 5, 6]\n",
      "横向合并外连接      a   aa    b   bb    c   cc\n",
      "1    a    a  NaN  NaN  NaN  NaN\n",
      "2   aa   aa  NaN  NaN  NaN  NaN\n",
      "3  NaN  NaN    b    b  NaN  NaN\n",
      "4  NaN  NaN   bb   bb  NaN  NaN\n",
      "5  NaN  NaN  NaN  NaN    c    c\n",
      "6  NaN  NaN  NaN  NaN   cc   cc\n",
      "横向合并内连接 Empty DataFrame\n",
      "Columns: [a, aa, b, bb, c, cc]\n",
      "Index: []\n"
     ]
    }
   ],
   "source": [
    "df1 = pd.DataFrame(\n",
    "    data=[['a', 'a'], ['aa', 'aa']],\n",
    "    index=['1', '2'],\n",
    "    columns=['a', 'aa'])\n",
    "df2 = pd.DataFrame(\n",
    "    data=[['b', 'b'], ['bb', 'bb']],\n",
    "    index=['3', '4'],\n",
    "    columns=['b', 'bb'])\n",
    "df3 = pd.DataFrame(\n",
    "    data=[['c', 'c'], ['cc', 'cc']],\n",
    "    index=['5', '6'],\n",
    "    columns=['c', 'cc'])\n",
    "print('纵向合并外连接', pd.concat([df1, df2, df3], axis=0, join=\"outer\"))\n",
    "print('纵向合并内连接', pd.concat([df1, df2, df3], axis=0, join=\"inner\"))\n",
    "print('横向合并外连接', pd.concat([df1, df2, df3], axis=1, join=\"outer\"))\n",
    "print('横向合并内连接', pd.concat([df1, df2, df3], axis=1, join=\"inner\"))"
   ]
  },
  {
   "cell_type": "markdown",
   "metadata": {},
   "source": [
    "### 主键合并"
   ]
  },
  {
   "cell_type": "code",
   "execution_count": 8,
   "metadata": {},
   "outputs": [
    {
     "name": "stdout",
     "output_type": "stream",
     "text": [
      "主键合并外连接      a temp   bb\n",
      "0    a    a  NaN\n",
      "1   tt   tt   tt\n",
      "2  NaN   bb   bb\n",
      "主键合并内连接     a temp  bb\n",
      "0  tt   tt  tt\n"
     ]
    }
   ],
   "source": [
    "df1 = pd.DataFrame(\n",
    "    data=[['a', 'a'], ['tt', 'tt']],\n",
    "    index=['1', '2'],\n",
    "    columns=['a', 'temp'])\n",
    "df2 = pd.DataFrame(\n",
    "    data=[['tt', 'tt'], ['bb', 'bb']],\n",
    "    index=['3', '4'],\n",
    "    columns=['temp', 'bb'])\n",
    "print('主键合并外连接', pd.merge(df1, df2, how='outer', on='temp'))\n",
    "print('主键合并内连接', pd.merge(df1, df2, on='temp'))"
   ]
  },
  {
   "cell_type": "markdown",
   "metadata": {},
   "source": [
    "## 清洗数据"
   ]
  },
  {
   "cell_type": "markdown",
   "metadata": {},
   "source": [
    "### 删除重复值"
   ]
  },
  {
   "cell_type": "code",
   "execution_count": 9,
   "metadata": {},
   "outputs": [
    {
     "name": "stdout",
     "output_type": "stream",
     "text": [
      "行重复时保留前者    a  b  c\n",
      "1  1  2  2\n",
      "2  1  3  3\n"
     ]
    }
   ],
   "source": [
    "df = pd.DataFrame(\n",
    "    data=[[1, 2, 2], [1, 3, 3], [1, 3, 3]],\n",
    "    index=['1', '2', '3'],\n",
    "    columns=['a', 'b', 'c']\n",
    ")\n",
    "print('行重复时保留前者', df.drop_duplicates(keep='first'))"
   ]
  },
  {
   "cell_type": "markdown",
   "metadata": {},
   "source": [
    "### 删除替换缺失值"
   ]
  },
  {
   "cell_type": "code",
   "execution_count": 10,
   "metadata": {},
   "outputs": [
    {
     "name": "stdout",
     "output_type": "stream",
     "text": [
      "沿纵轴删除缺失值，删除的是行      a  b   c\n",
      "1  1.0  2 NaN\n",
      "2  NaN  3 NaN\n",
      "3  4.0  5 NaN\n",
      "axis=1沿横轴删除缺失值，删除的是列    b\n",
      "1  2\n",
      "2  3\n",
      "3  5\n",
      "每列填充不同的值      a  b    c\n",
      "1  1.0  2  8.0\n",
      "2  6.0  3  8.0\n",
      "3  4.0  5  8.0\n"
     ]
    }
   ],
   "source": [
    "df = pd.DataFrame(\n",
    "    data=[[1, 2, np.nan], [np.nan, 3, np.nan], [4, 5, np.nan]],\n",
    "    index=['1', '2', '3'],\n",
    "    columns=['a', 'b', 'c']\n",
    ")\n",
    "print('沿纵轴删除缺失值，删除的是行', df.dropna(how='all'))\n",
    "print('axis=1沿横轴删除缺失值，删除的是列', df.dropna(axis=1, how='any'))\n",
    "\n",
    "print('每列填充不同的值', df.fillna(value={\"a\": 6, \"b\": 7, \"c\": 8}))"
   ]
  },
  {
   "cell_type": "markdown",
   "metadata": {},
   "source": [
    "### 删除替换异常值"
   ]
  },
  {
   "cell_type": "code",
   "execution_count": 11,
   "metadata": {},
   "outputs": [],
   "source": [
    "# 利用箱线图分析时，异常值通常被定义为小于QL-1.5*IQR或大于QU+1.5IQR（QL指下四分位数，QU指上四分位数，IQR指QU-QL）。\n",
    "# 把异常值赋值为nan，然后就可以按照缺失值删除处理。\n",
    "def outRange(Seri):\n",
    "    QL = Seri.quantile(0.25)\n",
    "    QU = Seri.quantile(0.75)\n",
    "    IQR = QU-QL\n",
    "    Seri[(Seri < QL-1.5*IQR) | (Seri > QU+1.5*IQR)] = np.nan\n",
    "    return Seri\n",
    "def outRange(Seri):\n",
    "    QL = Seri.quantile(0.25)\n",
    "    QU = Seri.quantile(0.75)\n",
    "    IQR = QU-QL\n",
    "    # 查看异常数据\n",
    "    # Seri = Seri.loc[(Seri < QL-1.5*IQR) |  (Seri > QU+1.5*IQR)]\n",
    "    # 替换异常值\n",
    "    Seri.loc[Seri < QL-1.5*IQR] = QL\n",
    "    Seri.loc[Seri > QU+1.5*IQR] = QU\n",
    "    return Seri"
   ]
  },
  {
   "cell_type": "markdown",
   "metadata": {},
   "source": [
    "## 标准化数据"
   ]
  },
  {
   "cell_type": "markdown",
   "metadata": {},
   "source": [
    "### 归一标准化，和为1"
   ]
  },
  {
   "cell_type": "code",
   "execution_count": 12,
   "metadata": {},
   "outputs": [],
   "source": [
    "def Normalization(Seri):\n",
    "    return Seri/Seri.sum()\n",
    "# 缺点是如果最大值很大，则标准化后的值趋向于0"
   ]
  },
  {
   "cell_type": "markdown",
   "metadata": {},
   "source": [
    "### 离差标准化，放缩"
   ]
  },
  {
   "cell_type": "code",
   "execution_count": 13,
   "metadata": {},
   "outputs": [],
   "source": [
    "def MinMaxScale(Seri):\n",
    "    return (Seri-Seri.min())/(Seri.max()-Seri.min())\n",
    "# 缺点是如果极差很大，则标准化后的值趋向于0"
   ]
  },
  {
   "cell_type": "markdown",
   "metadata": {},
   "source": [
    "### 标准差标准化，正态"
   ]
  },
  {
   "cell_type": "code",
   "execution_count": 14,
   "metadata": {},
   "outputs": [],
   "source": [
    "def StandardScale(Seri):\n",
    "    return (Seri-Seri.mean())/Seri.std()\n",
    "# 适用范围最广"
   ]
  },
  {
   "cell_type": "markdown",
   "metadata": {},
   "source": [
    "### 小数定标标准化"
   ]
  },
  {
   "cell_type": "code",
   "execution_count": 15,
   "metadata": {},
   "outputs": [],
   "source": [
    "def DecimalScale(Seri):\n",
    "    return Seri/10**math.ceil(math.log10(Seri.abs().max()))"
   ]
  },
  {
   "cell_type": "markdown",
   "metadata": {},
   "source": [
    "## 分组聚合"
   ]
  },
  {
   "cell_type": "code",
   "execution_count": 16,
   "metadata": {},
   "outputs": [
    {
     "name": "stdout",
     "output_type": "stream",
     "text": [
      "将班级人按头发颜色进行分组         age\n",
      "color      \n",
      "black    20\n",
      "blue     32\n",
      "red      34\n",
      "white    15\n",
      "yellow   54\n",
      "将班级人按头发颜色进行分组 color   sex\n",
      "black   f      1\n",
      "blue    m      2\n",
      "red     f      2\n",
      "white   m      1\n",
      "yellow  f      2\n",
      "        m      1\n",
      "dtype: int64\n",
      "对年龄应用均值聚合函数 sum     155.000000\n",
      "mean     17.222222\n",
      "Name: age, dtype: float64\n",
      "先分组，再聚合        age       sex\n",
      "       sum  mean len\n",
      "color               \n",
      "black   20  20.0   1\n",
      "blue    32  16.0   2\n",
      "red     34  17.0   2\n",
      "white   15  15.0   1\n",
      "yellow  54  18.0   3\n"
     ]
    }
   ],
   "source": [
    "# 假定对班级人按头发颜色分组，每个人附带着有年龄，性别\n",
    "df = pd.DataFrame(\n",
    "    data=[['yellow', 18, 'f'],\n",
    "          ['red', 17, 'f'],\n",
    "          ['blue', 16, 'm'],\n",
    "          ['yellow', 18, 'f'],\n",
    "          ['black', 20, 'f'],\n",
    "          ['white', 15, 'm'],\n",
    "          ['yellow', 18, 'm'],\n",
    "          ['red', 17, 'f'],\n",
    "          ['blue', 16, 'm'],\n",
    "          ],\n",
    "    columns=['color', 'age', 'sex'])\n",
    "print('将班级人按头发颜色进行分组', df[['color', 'age']].groupby(by='color').sum())\n",
    "print('将班级人按头发颜色进行分组', df[['color', 'sex']].groupby(by='color').value_counts())\n",
    "\n",
    "print('对年龄应用均值聚合函数', df['age'].agg([np.sum, np.mean]))\n",
    "\n",
    "print('先分组，再聚合', df.groupby(by='color').agg({'age': [np.sum, np.mean], 'sex': len}))"
   ]
  }
 ],
 "metadata": {
  "kernelspec": {
   "display_name": "Python 3 (ipykernel)",
   "language": "python",
   "name": "python3"
  },
  "language_info": {
   "codemirror_mode": {
    "name": "ipython",
    "version": 3
   },
   "file_extension": ".py",
   "mimetype": "text/x-python",
   "name": "python",
   "nbconvert_exporter": "python",
   "pygments_lexer": "ipython3",
   "version": "3.9.7"
  },
  "toc": {
   "base_numbering": 1,
   "nav_menu": {},
   "number_sections": true,
   "sideBar": true,
   "skip_h1_title": false,
   "title_cell": "Table of Contents",
   "title_sidebar": "Contents",
   "toc_cell": false,
   "toc_position": {
    "height": "calc(100% - 180px)",
    "left": "10px",
    "top": "150px",
    "width": "256px"
   },
   "toc_section_display": true,
   "toc_window_display": true
  },
  "varInspector": {
   "cols": {
    "lenName": 16,
    "lenType": 16,
    "lenVar": 40
   },
   "kernels_config": {
    "python": {
     "delete_cmd_postfix": "",
     "delete_cmd_prefix": "del ",
     "library": "var_list.py",
     "varRefreshCmd": "print(var_dic_list())"
    },
    "r": {
     "delete_cmd_postfix": ") ",
     "delete_cmd_prefix": "rm(",
     "library": "var_list.r",
     "varRefreshCmd": "cat(var_dic_list()) "
    }
   },
   "types_to_exclude": [
    "module",
    "function",
    "builtin_function_or_method",
    "instance",
    "_Feature"
   ],
   "window_display": false
  }
 },
 "nbformat": 4,
 "nbformat_minor": 4
}
